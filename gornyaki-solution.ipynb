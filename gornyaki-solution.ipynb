{
 "cells": [
  {
   "cell_type": "code",
   "execution_count": 1,
   "id": "06ce7485",
   "metadata": {
    "_cell_guid": "b1076dfc-b9ad-4769-8c92-a6c4dae69d19",
    "_uuid": "8f2839f25d086af736a60e9eeb907d3b93b6e0e5",
    "execution": {
     "iopub.execute_input": "2022-01-22T15:30:48.789569Z",
     "iopub.status.busy": "2022-01-22T15:30:48.788822Z",
     "iopub.status.idle": "2022-01-22T15:30:51.132694Z",
     "shell.execute_reply": "2022-01-22T15:30:51.131809Z",
     "shell.execute_reply.started": "2022-01-22T15:25:23.604805Z"
    },
    "papermill": {
     "duration": 2.374259,
     "end_time": "2022-01-22T15:30:51.132910",
     "exception": false,
     "start_time": "2022-01-22T15:30:48.758651",
     "status": "completed"
    },
    "tags": []
   },
   "outputs": [
    {
     "data": {
      "text/html": [
       "<style type='text/css'>\n",
       ".datatable table.frame { margin-bottom: 0; }\n",
       ".datatable table.frame thead { border-bottom: none; }\n",
       ".datatable table.frame tr.coltypes td {  color: #FFFFFF;  line-height: 6px;  padding: 0 0.5em;}\n",
       ".datatable .bool    { background: #DDDD99; }\n",
       ".datatable .object  { background: #565656; }\n",
       ".datatable .int     { background: #5D9E5D; }\n",
       ".datatable .float   { background: #4040CC; }\n",
       ".datatable .str     { background: #CC4040; }\n",
       ".datatable .time    { background: #40CC40; }\n",
       ".datatable .row_index {  background: var(--jp-border-color3);  border-right: 1px solid var(--jp-border-color0);  color: var(--jp-ui-font-color3);  font-size: 9px;}\n",
       ".datatable .frame tbody td { text-align: left; }\n",
       ".datatable .frame tr.coltypes .row_index {  background: var(--jp-border-color0);}\n",
       ".datatable th:nth-child(2) { padding-left: 12px; }\n",
       ".datatable .hellipsis {  color: var(--jp-cell-editor-border-color);}\n",
       ".datatable .vellipsis {  background: var(--jp-layout-color0);  color: var(--jp-cell-editor-border-color);}\n",
       ".datatable .na {  color: var(--jp-cell-editor-border-color);  font-size: 80%;}\n",
       ".datatable .sp {  opacity: 0.25;}\n",
       ".datatable .footer { font-size: 9px; }\n",
       ".datatable .frame_dimensions {  background: var(--jp-border-color3);  border-top: 1px solid var(--jp-border-color0);  color: var(--jp-ui-font-color3);  display: inline-block;  opacity: 0.6;  padding: 1px 10px 1px 5px;}\n",
       "</style>\n"
      ],
      "text/plain": [
       "<IPython.core.display.HTML object>"
      ]
     },
     "metadata": {},
     "output_type": "display_data"
    }
   ],
   "source": [
    "import numpy as np\n",
    "import pandas as pd\n",
    "\n",
    "from lightgbm import LGBMClassifier\n",
    "from sklearn.model_selection import KFold\n",
    "from catboost import CatBoostClassifier\n",
    "from sklearn.metrics import roc_auc_score\n",
    "\n",
    "SEED = 47"
   ]
  },
  {
   "cell_type": "code",
   "execution_count": 2,
   "id": "fd1d2226",
   "metadata": {
    "execution": {
     "iopub.execute_input": "2022-01-22T15:30:51.181502Z",
     "iopub.status.busy": "2022-01-22T15:30:51.180765Z",
     "iopub.status.idle": "2022-01-22T15:30:51.880200Z",
     "shell.execute_reply": "2022-01-22T15:30:51.879480Z",
     "shell.execute_reply.started": "2022-01-22T15:25:26.359799Z"
    },
    "papermill": {
     "duration": 0.725177,
     "end_time": "2022-01-22T15:30:51.880368",
     "exception": false,
     "start_time": "2022-01-22T15:30:51.155191",
     "status": "completed"
    },
    "tags": []
   },
   "outputs": [],
   "source": [
    "train = pd.read_csv('../input/techuklon-int20h/train.csv')\n",
    "test = pd.read_csv('../input/techuklon-int20h/test.csv')\n",
    "ss = pd.read_csv('../input/techuklon-int20h/Samle_Submission.csv')"
   ]
  },
  {
   "cell_type": "markdown",
   "id": "f775c20b",
   "metadata": {
    "papermill": {
     "duration": 0.019172,
     "end_time": "2022-01-22T15:30:51.919142",
     "exception": false,
     "start_time": "2022-01-22T15:30:51.899970",
     "status": "completed"
    },
    "tags": []
   },
   "source": [
    "# Preprocessing\n",
    "\n",
    "Since we need to predict churn without depending on the period, we decided to try 2 preprocessing options:\n",
    "* Use all training records and predict for each Id and Week in the test. After that, for the final forecast, we aggregate the weekly forecasts for each Id.\n",
    "* (It seemed better to us) First, aggregate the features to the Id level (without dependence on the period) and get a set of statistics for each feature, for example, the mean and variance. Using the resulting set of features, we solve the usual regression problem."
   ]
  },
  {
   "cell_type": "code",
   "execution_count": 3,
   "id": "cbb6a1d7",
   "metadata": {
    "execution": {
     "iopub.execute_input": "2022-01-22T15:30:51.962505Z",
     "iopub.status.busy": "2022-01-22T15:30:51.961838Z",
     "iopub.status.idle": "2022-01-22T15:30:52.290336Z",
     "shell.execute_reply": "2022-01-22T15:30:52.289751Z",
     "shell.execute_reply.started": "2022-01-22T15:25:27.230083Z"
    },
    "papermill": {
     "duration": 0.351303,
     "end_time": "2022-01-22T15:30:52.290504",
     "exception": false,
     "start_time": "2022-01-22T15:30:51.939201",
     "status": "completed"
    },
    "tags": []
   },
   "outputs": [],
   "source": [
    "agg = ['mean', 'std', 'min', 'max', 'sum', 'median']\n",
    "\n",
    "train_X = train.drop(columns=['target', 'Week']).groupby(['Id']).agg(agg).reset_index()\n",
    "train_X.columns = ['Id'] + [f'{col}_{stat}' for col in train.columns[2:-1] for stat in agg]\n",
    "train_X['target'] = train.groupby(['Id'])['target'].max().reset_index()['target']"
   ]
  },
  {
   "cell_type": "code",
   "execution_count": 4,
   "id": "d8611b0d",
   "metadata": {
    "execution": {
     "iopub.execute_input": "2022-01-22T15:30:52.336174Z",
     "iopub.status.busy": "2022-01-22T15:30:52.335481Z",
     "iopub.status.idle": "2022-01-22T15:30:52.366909Z",
     "shell.execute_reply": "2022-01-22T15:30:52.366321Z",
     "shell.execute_reply.started": "2022-01-22T15:25:27.609946Z"
    },
    "papermill": {
     "duration": 0.056998,
     "end_time": "2022-01-22T15:30:52.367074",
     "exception": false,
     "start_time": "2022-01-22T15:30:52.310076",
     "status": "completed"
    },
    "tags": []
   },
   "outputs": [],
   "source": [
    "X, y = train_X.drop(columns=['target', 'Id']), train_X['target']"
   ]
  },
  {
   "cell_type": "markdown",
   "id": "2acae7f0",
   "metadata": {
    "papermill": {
     "duration": 0.018185,
     "end_time": "2022-01-22T15:30:52.404371",
     "exception": false,
     "start_time": "2022-01-22T15:30:52.386186",
     "status": "completed"
    },
    "tags": []
   },
   "source": [
    "# Modeling\n",
    "\n",
    "For training, checking and forecasting, we use the following function. It is good because it generates oof-predicts.\n",
    "\n",
    "**Out-of-Fold Predictions** was used as a prediction method. An out-of-fold prediction is a prediction by the model during the k-fold cross-validation procedure. That is, out-of-fold predictions are those predictions made on the holdout datasets during the resampling procedure. There will be one prediction for each example in the training dataset."
   ]
  },
  {
   "cell_type": "code",
   "execution_count": 5,
   "id": "6f16c70d",
   "metadata": {
    "execution": {
     "iopub.execute_input": "2022-01-22T15:30:52.445886Z",
     "iopub.status.busy": "2022-01-22T15:30:52.445190Z",
     "iopub.status.idle": "2022-01-22T15:30:52.452955Z",
     "shell.execute_reply": "2022-01-22T15:30:52.453455Z",
     "shell.execute_reply.started": "2022-01-22T15:25:27.642108Z"
    },
    "papermill": {
     "duration": 0.030686,
     "end_time": "2022-01-22T15:30:52.453628",
     "exception": false,
     "start_time": "2022-01-22T15:30:52.422942",
     "status": "completed"
    },
    "tags": []
   },
   "outputs": [],
   "source": [
    "def calc(X, y, X_test, model, cv, oof):\n",
    "    \n",
    "    res = []\n",
    "    local_probs = pd.DataFrame()\n",
    "    for i, (tdx, vdx) in enumerate(cv.split(X, y)):\n",
    "        X_train, X_valid, y_train, y_valid = X.iloc[tdx], X.iloc[vdx], y.iloc[tdx], y.iloc[vdx]\n",
    "        model.fit(X_train, y_train)\n",
    "        preds = model.predict_proba(X_valid)[:,1]\n",
    "        \n",
    "        if oof:\n",
    "            oof_predict = model.predict_proba(X_test)[:,1]\n",
    "            local_probs['fold_%i'%i] = oof_predict\n",
    "        \n",
    "        score = roc_auc_score(y_valid, preds)\n",
    "        print(f'{i} Fold: {score:.4f}')\n",
    "        res.append(score)\n",
    "    \n",
    "    print(f'AVG score: {np.mean(res):.4f}')\n",
    "    return np.mean(res), local_probs.mean(axis=1)"
   ]
  },
  {
   "cell_type": "code",
   "execution_count": 6,
   "id": "d08a1223",
   "metadata": {
    "execution": {
     "iopub.execute_input": "2022-01-22T15:30:52.495447Z",
     "iopub.status.busy": "2022-01-22T15:30:52.494814Z",
     "iopub.status.idle": "2022-01-22T15:30:52.661363Z",
     "shell.execute_reply": "2022-01-22T15:30:52.660746Z",
     "shell.execute_reply.started": "2022-01-22T15:25:27.651599Z"
    },
    "papermill": {
     "duration": 0.189183,
     "end_time": "2022-01-22T15:30:52.661528",
     "exception": false,
     "start_time": "2022-01-22T15:30:52.472345",
     "status": "completed"
    },
    "tags": []
   },
   "outputs": [],
   "source": [
    "test_X = test.drop(columns=['Week']).groupby(['Id']).agg(agg).reset_index()\n",
    "test_X.columns = ['Id'] + [f'{col}_{stat}' for col in train.columns[2:-1] for stat in agg]"
   ]
  },
  {
   "cell_type": "markdown",
   "id": "53c785e6",
   "metadata": {
    "papermill": {
     "duration": 0.018594,
     "end_time": "2022-01-22T15:30:52.699012",
     "exception": false,
     "start_time": "2022-01-22T15:30:52.680418",
     "status": "completed"
    },
    "tags": []
   },
   "source": [
    "The set of hyperparameters for LGBM was selected using **Optuna**. You can see how to use it in our other [notebook](https://www.kaggle.com/imgremlin/4th-place-in-fraud-detection-from-zindi)."
   ]
  },
  {
   "cell_type": "code",
   "execution_count": 7,
   "id": "41ace432",
   "metadata": {
    "execution": {
     "iopub.execute_input": "2022-01-22T15:30:52.742860Z",
     "iopub.status.busy": "2022-01-22T15:30:52.742170Z",
     "iopub.status.idle": "2022-01-22T15:30:52.744660Z",
     "shell.execute_reply": "2022-01-22T15:30:52.744177Z",
     "shell.execute_reply.started": "2022-01-22T15:25:27.825828Z"
    },
    "papermill": {
     "duration": 0.026868,
     "end_time": "2022-01-22T15:30:52.744841",
     "exception": false,
     "start_time": "2022-01-22T15:30:52.717973",
     "status": "completed"
    },
    "tags": []
   },
   "outputs": [],
   "source": [
    "best_lgbm = {'n_estimators': 991,\n",
    " 'max_depth': 3,\n",
    " 'learning_rate': 0.036386125120857434,\n",
    " 'subsample': 0.014257208320520425,\n",
    " 'colsample_bytree': 0.4113657182157471,\n",
    " 'min_child_weight': 9,\n",
    " 'reg_alpha': 0.4433813076766884,\n",
    " 'reg_lambda': 2.871918517181243,\n",
    "             'random_state': SEED}"
   ]
  },
  {
   "cell_type": "code",
   "execution_count": 8,
   "id": "5e4bc0a1",
   "metadata": {
    "execution": {
     "iopub.execute_input": "2022-01-22T15:30:52.792660Z",
     "iopub.status.busy": "2022-01-22T15:30:52.792019Z",
     "iopub.status.idle": "2022-01-22T15:30:52.795404Z",
     "shell.execute_reply": "2022-01-22T15:30:52.794852Z",
     "shell.execute_reply.started": "2022-01-22T15:25:27.832686Z"
    },
    "papermill": {
     "duration": 0.029761,
     "end_time": "2022-01-22T15:30:52.795554",
     "exception": false,
     "start_time": "2022-01-22T15:30:52.765793",
     "status": "completed"
    },
    "tags": []
   },
   "outputs": [],
   "source": [
    "cb = CatBoostClassifier(iterations=250, random_state=SEED, verbose=0)\n",
    "lgbm = LGBMClassifier(**best_lgbm)\n",
    "kfold = KFold(n_splits=5, random_state=SEED, shuffle=True)"
   ]
  },
  {
   "cell_type": "code",
   "execution_count": 9,
   "id": "f7fee8a1",
   "metadata": {
    "execution": {
     "iopub.execute_input": "2022-01-22T15:30:52.843814Z",
     "iopub.status.busy": "2022-01-22T15:30:52.841639Z",
     "iopub.status.idle": "2022-01-22T15:31:11.260212Z",
     "shell.execute_reply": "2022-01-22T15:31:11.261272Z",
     "shell.execute_reply.started": "2022-01-22T15:25:27.852236Z"
    },
    "papermill": {
     "duration": 18.44699,
     "end_time": "2022-01-22T15:31:11.261528",
     "exception": false,
     "start_time": "2022-01-22T15:30:52.814538",
     "status": "completed"
    },
    "tags": []
   },
   "outputs": [
    {
     "name": "stdout",
     "output_type": "stream",
     "text": [
      "0 Fold: 0.9808\n",
      "1 Fold: 0.9820\n",
      "2 Fold: 0.9804\n",
      "3 Fold: 0.9833\n",
      "4 Fold: 0.9706\n",
      "AVG score: 0.9794\n"
     ]
    }
   ],
   "source": [
    "score, predict_lgbm = calc(X, y, test_X.drop(columns=['Id']), lgbm, kfold, True)"
   ]
  },
  {
   "cell_type": "code",
   "execution_count": 10,
   "id": "69b67296",
   "metadata": {
    "execution": {
     "iopub.execute_input": "2022-01-22T15:31:11.316706Z",
     "iopub.status.busy": "2022-01-22T15:31:11.315766Z",
     "iopub.status.idle": "2022-01-22T15:32:00.509981Z",
     "shell.execute_reply": "2022-01-22T15:32:00.509166Z",
     "shell.execute_reply.started": "2022-01-22T15:25:45.863996Z"
    },
    "papermill": {
     "duration": 49.225809,
     "end_time": "2022-01-22T15:32:00.510201",
     "exception": false,
     "start_time": "2022-01-22T15:31:11.284392",
     "status": "completed"
    },
    "tags": []
   },
   "outputs": [
    {
     "name": "stdout",
     "output_type": "stream",
     "text": [
      "0 Fold: 0.9787\n",
      "1 Fold: 0.9826\n",
      "2 Fold: 0.9786\n",
      "3 Fold: 0.9812\n",
      "4 Fold: 0.9688\n",
      "AVG score: 0.9780\n"
     ]
    }
   ],
   "source": [
    "score, predict_cb = calc(X, y, test_X.drop(columns=['Id']), cb, kfold, True)"
   ]
  },
  {
   "cell_type": "markdown",
   "id": "3f1e04fb",
   "metadata": {
    "papermill": {
     "duration": 0.02264,
     "end_time": "2022-01-22T15:32:00.561086",
     "exception": false,
     "start_time": "2022-01-22T15:32:00.538446",
     "status": "completed"
    },
    "tags": []
   },
   "source": [
    "# (Bonus) Magic"
   ]
  },
  {
   "cell_type": "markdown",
   "id": "3a0293bb",
   "metadata": {
    "papermill": {
     "duration": 0.029616,
     "end_time": "2022-01-22T15:32:00.613791",
     "exception": false,
     "start_time": "2022-01-22T15:32:00.584175",
     "status": "completed"
    },
    "tags": []
   },
   "source": [
    "**Automated machine learning (AutoML)** is the process of automating the end-to-end process of applying machine learning to real-world problems. In a typical machine learning application, the typical stages (and sub-stages) of work are the following:\n",
    "\n",
    "* Data preparation\n",
    "    * data pre-processing\n",
    "    * feature engineering\n",
    "    * feature extraction\n",
    "    * feature selection\n",
    "* Model selection\n",
    "* Hyperparameter optimization (to maximize the performance of the final model)\n",
    "\n",
    "AutoML was proposed as an artificial intelligence-based solution to the ever-growing challenge of applying machine learning."
   ]
  },
  {
   "cell_type": "code",
   "execution_count": 11,
   "id": "191b5fb5",
   "metadata": {
    "execution": {
     "iopub.execute_input": "2022-01-22T15:32:00.675394Z",
     "iopub.status.busy": "2022-01-22T15:32:00.674282Z",
     "iopub.status.idle": "2022-01-22T15:32:00.677032Z",
     "shell.execute_reply": "2022-01-22T15:32:00.676357Z",
     "shell.execute_reply.started": "2022-01-22T15:26:34.982849Z"
    },
    "papermill": {
     "duration": 0.030331,
     "end_time": "2022-01-22T15:32:00.677193",
     "exception": false,
     "start_time": "2022-01-22T15:32:00.646862",
     "status": "completed"
    },
    "tags": []
   },
   "outputs": [],
   "source": [
    "# import h2o\n",
    "# from h2o.automl import H2OAutoML\n",
    "\n",
    "# h2o.init()"
   ]
  },
  {
   "cell_type": "code",
   "execution_count": 12,
   "id": "8ff1157b",
   "metadata": {
    "execution": {
     "iopub.execute_input": "2022-01-22T15:32:00.737814Z",
     "iopub.status.busy": "2022-01-22T15:32:00.736951Z",
     "iopub.status.idle": "2022-01-22T15:32:00.740812Z",
     "shell.execute_reply": "2022-01-22T15:32:00.741357Z",
     "shell.execute_reply.started": "2022-01-22T15:26:34.990655Z"
    },
    "papermill": {
     "duration": 0.036779,
     "end_time": "2022-01-22T15:32:00.741594",
     "exception": false,
     "start_time": "2022-01-22T15:32:00.704815",
     "status": "completed"
    },
    "tags": []
   },
   "outputs": [],
   "source": [
    "# y = \"target\"\n",
    "# x = list(train_X.columns) \n",
    "# x.remove(y)"
   ]
  },
  {
   "cell_type": "code",
   "execution_count": 13,
   "id": "bb42d1c3",
   "metadata": {
    "execution": {
     "iopub.execute_input": "2022-01-22T15:32:00.790366Z",
     "iopub.status.busy": "2022-01-22T15:32:00.789750Z",
     "iopub.status.idle": "2022-01-22T15:32:00.794157Z",
     "shell.execute_reply": "2022-01-22T15:32:00.794644Z",
     "shell.execute_reply.started": "2022-01-22T15:26:35.003568Z"
    },
    "papermill": {
     "duration": 0.030486,
     "end_time": "2022-01-22T15:32:00.794844",
     "exception": false,
     "start_time": "2022-01-22T15:32:00.764358",
     "status": "completed"
    },
    "tags": []
   },
   "outputs": [],
   "source": [
    "# train_X = h2o.H2OFrame(train_X)\n",
    "# train_X[y] = train_X[y].asfactor()"
   ]
  },
  {
   "cell_type": "code",
   "execution_count": 14,
   "id": "f40b81f4",
   "metadata": {
    "execution": {
     "iopub.execute_input": "2022-01-22T15:32:00.844696Z",
     "iopub.status.busy": "2022-01-22T15:32:00.843626Z",
     "iopub.status.idle": "2022-01-22T15:32:00.846905Z",
     "shell.execute_reply": "2022-01-22T15:32:00.846224Z",
     "shell.execute_reply.started": "2022-01-22T15:26:35.019628Z"
    },
    "papermill": {
     "duration": 0.030375,
     "end_time": "2022-01-22T15:32:00.847057",
     "exception": false,
     "start_time": "2022-01-22T15:32:00.816682",
     "status": "completed"
    },
    "tags": []
   },
   "outputs": [],
   "source": [
    "# # Increase max_runtime_secs the value for a better prediction.\n",
    "\n",
    "# aml = H2OAutoML(max_runtime_secs = 60*2, sort_metric='AUC', stopping_metric='AUC' , stopping_rounds=100)\n",
    "# aml.train(x = x, y = y, training_frame = train_X)"
   ]
  },
  {
   "cell_type": "code",
   "execution_count": 15,
   "id": "78974ca8",
   "metadata": {
    "execution": {
     "iopub.execute_input": "2022-01-22T15:32:00.897517Z",
     "iopub.status.busy": "2022-01-22T15:32:00.896515Z",
     "iopub.status.idle": "2022-01-22T15:32:00.899603Z",
     "shell.execute_reply": "2022-01-22T15:32:00.899108Z",
     "shell.execute_reply.started": "2022-01-22T15:26:35.034520Z"
    },
    "papermill": {
     "duration": 0.030393,
     "end_time": "2022-01-22T15:32:00.899781",
     "exception": false,
     "start_time": "2022-01-22T15:32:00.869388",
     "status": "completed"
    },
    "tags": []
   },
   "outputs": [],
   "source": [
    "# aml.leaderboard"
   ]
  },
  {
   "cell_type": "code",
   "execution_count": 16,
   "id": "77b7ea76",
   "metadata": {
    "execution": {
     "iopub.execute_input": "2022-01-22T15:32:00.950333Z",
     "iopub.status.busy": "2022-01-22T15:32:00.949464Z",
     "iopub.status.idle": "2022-01-22T15:32:00.953203Z",
     "shell.execute_reply": "2022-01-22T15:32:00.952606Z",
     "shell.execute_reply.started": "2022-01-22T15:26:35.051851Z"
    },
    "papermill": {
     "duration": 0.031042,
     "end_time": "2022-01-22T15:32:00.953344",
     "exception": false,
     "start_time": "2022-01-22T15:32:00.922302",
     "status": "completed"
    },
    "tags": []
   },
   "outputs": [],
   "source": [
    "# test_X = test.drop(columns=['Week']).groupby(['Id']).agg(agg).reset_index()\n",
    "# test_X.columns = ['Id'] + [f'{col}_{stat}' for col in train.columns[2:-1] for stat in agg]"
   ]
  },
  {
   "cell_type": "code",
   "execution_count": 17,
   "id": "23d1a195",
   "metadata": {
    "execution": {
     "iopub.execute_input": "2022-01-22T15:32:01.002378Z",
     "iopub.status.busy": "2022-01-22T15:32:01.001536Z",
     "iopub.status.idle": "2022-01-22T15:32:01.005043Z",
     "shell.execute_reply": "2022-01-22T15:32:01.004478Z",
     "shell.execute_reply.started": "2022-01-22T15:26:35.070133Z"
    },
    "papermill": {
     "duration": 0.029501,
     "end_time": "2022-01-22T15:32:01.005189",
     "exception": false,
     "start_time": "2022-01-22T15:32:00.975688",
     "status": "completed"
    },
    "tags": []
   },
   "outputs": [],
   "source": [
    "# predict_automl = aml.leader.predict(h2o.H2OFrame(test_X.drop(columns=['Id']))).as_data_frame()['p1']"
   ]
  },
  {
   "cell_type": "markdown",
   "id": "e1eb0301",
   "metadata": {
    "papermill": {
     "duration": 0.023039,
     "end_time": "2022-01-22T15:32:01.049673",
     "exception": false,
     "start_time": "2022-01-22T15:32:01.026634",
     "status": "completed"
    },
    "tags": []
   },
   "source": [
    "# Create a submission"
   ]
  },
  {
   "cell_type": "code",
   "execution_count": 18,
   "id": "2b294c21",
   "metadata": {
    "execution": {
     "iopub.execute_input": "2022-01-22T15:32:01.103651Z",
     "iopub.status.busy": "2022-01-22T15:32:01.102202Z",
     "iopub.status.idle": "2022-01-22T15:32:01.126938Z",
     "shell.execute_reply": "2022-01-22T15:32:01.126223Z",
     "shell.execute_reply.started": "2022-01-22T15:26:35.083942Z"
    },
    "papermill": {
     "duration": 0.055425,
     "end_time": "2022-01-22T15:32:01.127085",
     "exception": false,
     "start_time": "2022-01-22T15:32:01.071660",
     "status": "completed"
    },
    "tags": []
   },
   "outputs": [],
   "source": [
    "test_X['Predicted'] = 0.6 * predict_lgbm + 0.4 * predict_cb # + 0.3 * predict_automl\n",
    "test_X[['Id', 'Predicted']].to_csv('submit.csv', index=0)"
   ]
  }
 ],
 "metadata": {
  "kernelspec": {
   "display_name": "Python 3",
   "language": "python",
   "name": "python3"
  },
  "language_info": {
   "codemirror_mode": {
    "name": "ipython",
    "version": 3
   },
   "file_extension": ".py",
   "mimetype": "text/x-python",
   "name": "python",
   "nbconvert_exporter": "python",
   "pygments_lexer": "ipython3",
   "version": "3.7.12"
  },
  "papermill": {
   "default_parameters": {},
   "duration": 83.97874,
   "end_time": "2022-01-22T15:32:02.262785",
   "environment_variables": {},
   "exception": null,
   "input_path": "__notebook__.ipynb",
   "output_path": "__notebook__.ipynb",
   "parameters": {},
   "start_time": "2022-01-22T15:30:38.284045",
   "version": "2.3.3"
  }
 },
 "nbformat": 4,
 "nbformat_minor": 5
}
